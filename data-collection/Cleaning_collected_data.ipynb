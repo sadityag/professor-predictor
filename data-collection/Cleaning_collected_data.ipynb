{
 "cells": [
  {
   "cell_type": "markdown",
   "metadata": {},
   "source": [
    "This notebook will be used to clean out the data files we got from different websites into a single CSV file.  "
   ]
  },
  {
   "cell_type": "code",
   "execution_count": 6,
   "metadata": {},
   "outputs": [],
   "source": [
    "import numpy as np\n",
    "import pandas as pd"
   ]
  },
  {
   "cell_type": "code",
   "execution_count": 7,
   "metadata": {},
   "outputs": [],
   "source": [
    "#By the end of the notebook, we will create a relatively large data set that includes all of our data.\n",
    "\n",
    "\n",
    "#This will be used to decide the start and end date of our largest data set. \n",
    "years_bounds=[]\n",
    "data_sets_names=[] #Names of the data sets we will use at the end\n",
    "column_names=[] #Names of columns at the end\n",
    "feature_description={} #Description of eavery feature we have in addition to units"
   ]
  },
  {
   "cell_type": "markdown",
   "metadata": {},
   "source": [
    "### Cleaning Faculty data\n",
    "In this section, we clean faculty data obtained from NCES and we also interpolated the gapped year in the data."
   ]
  },
  {
   "cell_type": "code",
   "execution_count": 8,
   "metadata": {},
   "outputs": [
    {
     "name": "stdout",
     "output_type": "stream",
     "text": [
      "   year  faculty\n",
      "0  1970   474000\n",
      "1  1971   492000\n",
      "2  1972   500000\n",
      "3  1973   527000\n",
      "4  1974   567000\n",
      "\n",
      "The year range is 53\n",
      "The number of missing years is 15\n"
     ]
    }
   ],
   "source": [
    "\n",
    "#Import the data\n",
    "faculty_read=pd.read_csv(\"NCES_data/Faculty_series_cleaned_1970-2022.csv\")\n",
    "faculty_read.columns=['year','faculty']\n",
    "#Check data and the number of NAN entries. \n",
    "# faculty_read.info()\n",
    "# print()\n",
    "# print()\n",
    "\n",
    "#If NAN>0, clean these rows\n",
    "faculty_read=faculty_read.dropna()\n",
    "\n",
    "#Check the format of the entires of each column\n",
    "# print(faculty_read.head())\n",
    "# print()\n",
    "\n",
    "#Clean columns\n",
    "def clean_column(text:str) -> int:\n",
    "    # text = text[1:] # removes leading $\n",
    "    return int(text.replace(',','')) # removes comma and converts to int\n",
    "\n",
    "faculty_read['year']=faculty_read['year'].astype(int)\n",
    "faculty_read['faculty']=faculty_read['faculty'].apply(clean_column)\n",
    "# faculty_read.info()\n",
    "# print()\n",
    "# print()\n",
    "\n",
    "#Find the start and end years to be used as keys when analyzing the data \n",
    "faculty_start, faculty_end = faculty_read['year'].iloc[0],faculty_read['year'].iloc[-1]\n",
    "years_bounds.append(faculty_start)\n",
    "years_bounds.append(faculty_end)\n",
    "\n",
    "faculty_data=faculty_read\n",
    "\n",
    "#cheack that there are no missing years (gaps)\n",
    "print(faculty_data.head())\n",
    "print()\n",
    "print(f\"The year range is {(faculty_end-faculty_start+1)}\")\n",
    "print(f\"The number of missing years is {(faculty_end-faculty_start+1)- len(faculty_data)}\")\n",
    "\n",
    "data_sets_names.append('faculty_data')\n",
    "column_names.append('faculty')\n",
    "feature_description['faculty']=[\"# of faculty in a given year\",\"faculty\"]"
   ]
  },
  {
   "cell_type": "markdown",
   "metadata": {},
   "source": [
    "Since there's a gap in the faculty data, we will have to find a way to work around this. One of the easiest ways is to use an auto average fill. This is basically filling evey missing year by the mean of the number of faculty of the pervious and the next year. "
   ]
  },
  {
   "cell_type": "code",
   "execution_count": 4,
   "metadata": {},
   "outputs": [
    {
     "name": "stdout",
     "output_type": "stream",
     "text": [
      "     year   faculty\n",
      "0  1970.0  474000.0\n",
      "1  1971.0  492000.0\n",
      "2  1972.0  500000.0\n",
      "3  1973.0  527000.0\n",
      "4  1974.0  567000.0\n",
      "5  1975.0  628000.0\n",
      "6  1976.0  633000.0\n",
      "7  1977.0  678000.0\n",
      "8  1978.0  676500.0\n",
      "9  1979.0  675000.0\n",
      "\n",
      "   year  faculty\n",
      "0  1970   474000\n",
      "1  1971   492000\n",
      "2  1972   500000\n",
      "3  1973   527000\n",
      "4  1974   567000\n",
      "5  1975   628000\n",
      "6  1976   633000\n",
      "7  1977   678000\n",
      "8  1979   675000\n",
      "9  1980   686000\n"
     ]
    }
   ],
   "source": [
    "years_old=faculty_data['year'].to_numpy()\n",
    "# print(years_old)\n",
    "years_new=np.arange(faculty_start,faculty_end+1,1)\n",
    "# print(years_new)\n",
    "# print(len(years_new)-len(years_old))\n",
    "faculty_data_interpolated=np.zeros((len(years_new),2)) #array of zeros to store the data\n",
    "\n",
    "iter=0\n",
    "for year in years_new:\n",
    "             faculty_data_interpolated[iter][0]=year\n",
    "             if year in years_old: faculty_data_interpolated[iter][1]=faculty_data[faculty_data['year']==year]['faculty'].sum()\n",
    "             else: faculty_data_interpolated[iter][1]=faculty_data[(faculty_data['year']==year-1) | (faculty_data['year']==year+1)]['faculty'].mean()\n",
    "             iter+=1\n",
    "\n",
    "faculty_data_interpolated=pd.DataFrame(faculty_data_interpolated)\n",
    "faculty_data_interpolated.columns=['year','faculty']\n",
    "\n",
    "print(faculty_data_interpolated.head(10))\n",
    "print()\n",
    "print(faculty_data.head(10))\n"
   ]
  },
  {
   "cell_type": "markdown",
   "metadata": {},
   "source": [
    "### Cleaning non-FRED Economic Factors\n",
    "In this section, we clean the economic data not obtained from FRED. Each set of these data has special format so we treat each of them seperately. We deal with 3 different sets of data"
   ]
  },
  {
   "cell_type": "markdown",
   "metadata": {},
   "source": [
    "1. NSF Awards"
   ]
  },
  {
   "cell_type": "code",
   "execution_count": 9,
   "metadata": {},
   "outputs": [
    {
     "name": "stdout",
     "output_type": "stream",
     "text": [
      "     year  NSF_awards\n",
      "0  2011.0     5460.18\n",
      "1  2012.0     5542.50\n",
      "2  2013.0     5361.64\n",
      "3  2014.0     6159.59\n",
      "4  2015.0     5678.03\n",
      "\n",
      "The year range is 13\n",
      "The number of missing years is 0\n"
     ]
    }
   ],
   "source": [
    "#Import the data\n",
    "NSF_read=pd.read_csv(\"Economic_factors/NSF_awards_2011-2023.csv\")\n",
    "#Check data and the number of NAN entries. \n",
    "# NSF_read.info()\n",
    "# print()\n",
    "# print()\n",
    "\n",
    "#If NAN>0, clean these rows\n",
    "# faculty_data=faculty_data.dropna()\n",
    "\n",
    "#Check the format of the entires of each column\n",
    "# print(NSF_read.head())\n",
    "# print()\n",
    "\n",
    "#Clean columns\n",
    "def clean_column(text:str) -> float:\n",
    "    text = text[1:-1] # removes leading $ and tailing M\n",
    "    return float(text) #returns a float\n",
    "\n",
    "NSF_read[\"Award Obligation to Date \"]=NSF_read[\"Award Obligation to Date \"].apply(clean_column)\n",
    "# NSF_read.info()\n",
    "# print()\n",
    "# print()\n",
    "\n",
    "#All this data is split into years so we are gonna create a new data frame where every row corresponds to a year\n",
    "years=(NSF_read['Fiscal Year'].unique()) #finds unique years\n",
    "years.sort() #sorts the array\n",
    "\n",
    "NSF_data=np.zeros((len(years),2)) #array of zeros to store the data\n",
    "iter=0\n",
    "for year in years:\n",
    "             NSF_data[iter][0],NSF_data[iter][1]=year, NSF_read[NSF_read['Fiscal Year']==year][\"Award Obligation to Date \"].sum()\n",
    "             iter+=1\n",
    "NSF_data=pd.DataFrame(NSF_data)\n",
    "NSF_data.columns=['year','NSF_awards']\n",
    "\n",
    "#Find the start and end years to be used as keys when analyzing the data \n",
    "NSF_start, NSF_end =years[0], years[-1]\n",
    "years_bounds.append(NSF_start)\n",
    "years_bounds.append(NSF_end)\n",
    "\n",
    "#cheack that there are no missing years (gaps)\n",
    "print(NSF_data.head())\n",
    "print()\n",
    "print(f\"The year range is {(NSF_end-NSF_start+1)}\")\n",
    "print(f\"The number of missing years is {(NSF_end-NSF_start+1)- len(NSF_data)}\")\n",
    "\n",
    "data_sets_names.append('NSF_data')\n",
    "column_names.append('NSF_awards')\n",
    "\n",
    "feature_description['NSF_awards']=[\"Total amount of NSF awards in a given year\",\"Million $\"]\n"
   ]
  },
  {
   "cell_type": "markdown",
   "metadata": {},
   "source": [
    "2. Inflation rate given as a percent"
   ]
  },
  {
   "cell_type": "code",
   "execution_count": 10,
   "metadata": {},
   "outputs": [
    {
     "name": "stdout",
     "output_type": "stream",
     "text": [
      "   year  inflation_rate\n",
      "0  1980            13.5\n",
      "1  1981            10.4\n",
      "2  1982             6.2\n",
      "3  1983             3.2\n",
      "4  1984             4.4\n",
      "\n",
      "The year range is 45\n",
      "The number of missing years is 0\n"
     ]
    }
   ],
   "source": [
    "#Import the data\n",
    "inflation_percent_data=pd.read_csv(\"Economic_factors/inflation_rate_annual_percent_1980_2024_annual.csv\")\n",
    "inflation_percent_data.columns=['year','inflation_rate']\n",
    "\n",
    "#Check data and the number of NAN entries. \n",
    "# inflation_percent_data.info()\n",
    "# print()\n",
    "# print()\n",
    "\n",
    "\n",
    "#If NAN>0, clean these rows\n",
    "#inflation_percent_data=inflation_percent_data.dropna()\n",
    "\n",
    "#Check the format of the entires of each column\n",
    "# print(inflation_percent_data.head())\n",
    "# print()\n",
    "\n",
    "#Drops previous predictions\n",
    "inflation_percent_data=inflation_percent_data[inflation_percent_data['year']<2025]\n",
    "\n",
    "# Find the start and end years to be used as keys when analyzing the data \n",
    "inflation_percent_start, inflation_percent_end =inflation_percent_data['year'][0], inflation_percent_data['year'][len(inflation_percent_data)-1]\n",
    "years_bounds.append(inflation_percent_start)\n",
    "years_bounds.append(inflation_percent_end)\n",
    "\n",
    "# #cheack that there are no missing years (gaps)\n",
    "print(inflation_percent_data.head())\n",
    "print()\n",
    "print(f\"The year range is {(inflation_percent_end-inflation_percent_start+1)}\")\n",
    "print(f\"The number of missing years is {(inflation_percent_end-inflation_percent_start+1)- len(inflation_percent_data)}\")\n",
    "\n",
    "data_sets_names.append('inflation_percent_data')\n",
    "column_names.append('inflation_rate')\n",
    "\n",
    "\n",
    "feature_description['inflation_rate']=[\"Inflation rate, average consumer prices, annual percent change\",\"%\"]"
   ]
  },
  {
   "cell_type": "markdown",
   "metadata": {},
   "source": [
    "3. The fedrel budget for higher educations"
   ]
  },
  {
   "cell_type": "code",
   "execution_count": 11,
   "metadata": {},
   "outputs": [
    {
     "name": "stdout",
     "output_type": "stream",
     "text": [
      "     year  Fed_Budget  PA_Budget_diff\n",
      "0  1980.0    5645.806           0.000\n",
      "1  1981.0    6934.329        -200.981\n",
      "2  1982.0    7282.939         412.064\n",
      "3  1983.0    7358.132        1969.827\n",
      "4  1984.0    6891.971         671.433\n",
      "\n",
      "The year range is 42.0\n",
      "The number of missing years is 0.0\n"
     ]
    }
   ],
   "source": [
    "\n",
    "#Import the data\n",
    "Fed_Budget_Read = pd.read_csv(\"Economic_factors/Federal_budget_education_1980_2021_annual.csv\")\n",
    "Fed_Budget_Read.columns=['year','budget']\n",
    "Fed_Budget_Read['President']=Fed_Budget_Read['year']\n",
    "#Fed_Budget_Read.info()\n",
    "\n",
    "#If NAN>0, clean these rows\n",
    "Fed_Budget_Read=Fed_Budget_Read.dropna()\n",
    "\n",
    "\n",
    "def clean_column(text:str):\n",
    "    text = text[0:4] # pickes the year part\n",
    "    return text\n",
    "\n",
    "Fed_Budget_Read['year']=Fed_Budget_Read['year'].apply(clean_column)\n",
    "\n",
    "def clean_column(text:str) -> int:\n",
    "    if text[4:5]==\"\\n\": return text[6:7] # pickes President or Appropriation\n",
    "    elif text[5:6]==\"\\n\": return text[6:7]\n",
    "    else: return text[5:6]\n",
    "    \n",
    "Fed_Budget_Read['President']=Fed_Budget_Read['President'].apply(clean_column)\n",
    "\n",
    "\n",
    "indices_drop=Fed_Budget_Read[Fed_Budget_Read['year']==\"Majo\"].index #Finds the indices where it's not a year\n",
    "Fed_Budget_Read.drop(indices_drop, inplace=True) #Deletes those rows\n",
    "Fed_Budget_Read.index=np.arange(len(Fed_Budget_Read)) #Renames indices in order \n",
    "\n",
    "\n",
    "Fed_Budget_Read['year']=Fed_Budget_Read['year'].astype(int)\n",
    "Fed_Budget_Read['budget']=(Fed_Budget_Read['budget'].astype(float))/1000 #to be given in millions $\n",
    "Fed_Budget_Read['PA_budget_diff']=Fed_Budget_Read['budget'].diff()\n",
    "\n",
    "# print(Fed_Budget_Read.sample(20))\n",
    "#print()\n",
    "\n",
    "\n",
    "# All this data is split into years so we are gonna create a new data frame where every row corresponds to a year\n",
    "years=(Fed_Budget_Read['year'].unique()) #finds unique years\n",
    "years.sort() #sorts the array\n",
    "\n",
    "\n",
    "Fed_Budget_data=np.zeros((len(years),3)) #array of zeros to store the data\n",
    "iter=0\n",
    "for year in years:\n",
    "             Fed_Budget_data[iter][0]=year\n",
    "             Fed_Budget_data[iter][1]=Fed_Budget_Read[(Fed_Budget_Read['year']==year) & (Fed_Budget_Read['President']==\"A\")]['budget'].sum()\n",
    "             Fed_Budget_data[iter][2]=Fed_Budget_Read[(Fed_Budget_Read['year']==year) & (Fed_Budget_Read['President']==\"A\")]['PA_budget_diff'].sum()\n",
    "             iter+=1\n",
    "Fed_Budget_data=pd.DataFrame(Fed_Budget_data)\n",
    "Fed_Budget_data.columns=['year','Fed_Budget', 'PA_Budget_diff']\n",
    "\n",
    "\n",
    "\n",
    "# Find the start and end years to be used as keys when analyzing the data \n",
    "Fed_Budget_start, Fed_Budget_end =Fed_Budget_data['year'][0], Fed_Budget_data['year'].iloc[len(Fed_Budget_data)-1]\n",
    "years_bounds.append(Fed_Budget_start)\n",
    "years_bounds.append(Fed_Budget_end)\n",
    "\n",
    "#cheack that there are no missing years (gaps)\n",
    "print(Fed_Budget_data.head())\n",
    "print()\n",
    "print(f\"The year range is {(Fed_Budget_end-Fed_Budget_start+1)}\")\n",
    "print(f\"The number of missing years is {(Fed_Budget_end-Fed_Budget_start+1)- len(Fed_Budget_data)}\")\n",
    "\n",
    "data_sets_names.append('Fed_Budget_data')\n",
    "data_sets_names.append('Fed_Budget_data')\n",
    "column_names.append('Fed_Budget')\n",
    "column_names.append( 'PA_Budget_diff')\n",
    "\n",
    "feature_description['Fed_Budget']=[\"Federal budget for postsecondary education in a given year\",\"Million $\"]\n",
    "feature_description['PA_Budget_diff']=[\"The difference between the president's proposed budget and the actual fedral budget in a given year \",\"Million $\"]\n"
   ]
  },
  {
   "cell_type": "markdown",
   "metadata": {},
   "source": [
    "### Cleaning the FRED Economic Data"
   ]
  },
  {
   "cell_type": "markdown",
   "metadata": {},
   "source": [
    "We start by defining a function that will clean any data set obtained from FRED"
   ]
  },
  {
   "cell_type": "code",
   "execution_count": 13,
   "metadata": {},
   "outputs": [],
   "source": [
    "def Clean_FRED_Set( data_set_read, col1_name, col2_name):\n",
    "    '''\n",
    "    Takes a downloaded FRED CSV file and puts it into a usable format for our time series purposes.\n",
    "\n",
    "    Inputs\n",
    "    data_set_read: That's the data set that is being read from the CSV file as a pandas data frame.\n",
    "    col1_name:  a string represents the desired name of the first column.\n",
    "    col2_name:  a string represents the desired name of the second column.\n",
    "    \n",
    "    Outputs:\n",
    "    (data,start_year, end year)\n",
    "    data: a pandas data frame with the formats cleaned\n",
    "    start_year: the year when the data starts\n",
    "    end_year: the year when the data ends\n",
    "\n",
    "    '''\n",
    "\n",
    "    #Set the name of the columns\n",
    "    col1,col2=data_set_read.columns\n",
    "    #If NAN>0, clean these rows\n",
    "    data_set_read=data_set_read.dropna()\n",
    "\n",
    "    # #Check the format of the entires of each column\n",
    "\n",
    "    #Clean columns\n",
    "    def clean_column(text:str) -> float:\n",
    "        text = text[0:4] # removes month and day\n",
    "        return int(text) #returns an int\n",
    "\n",
    "    data_set_read[col1]=data_set_read[col1].apply(clean_column)\n",
    "   \n",
    "\n",
    "    # All this data is split into years so we are gonna create a new data frame where every row corresponds to a year\n",
    "    years=(data_set_read[col1].unique()) #finds unique years\n",
    "    years.sort() #sorts the array\n",
    "\n",
    "    data=np.zeros((len(years),2)) #array of zeros to store the data\n",
    "    iter=0\n",
    "    for year in years:\n",
    "                data[iter][0],data[iter][1]=year, data_set_read[data_set_read[col1]==year][col2].mean()\n",
    "                iter+=1\n",
    "\n",
    "    data=pd.DataFrame(data)\n",
    "    data.columns=[col1_name,col2_name]\n",
    "\n",
    "    #Find the start and end years to be used as keys when analyzing the data \n",
    "    start_year, end_year =years[0], years[-1]\n",
    "\n",
    "\n",
    "    return([data,start_year,end_year])\n"
   ]
  },
  {
   "cell_type": "markdown",
   "metadata": {},
   "source": [
    "Apply our cleaning function to the Nominal GDP"
   ]
  },
  {
   "cell_type": "code",
   "execution_count": 14,
   "metadata": {},
   "outputs": [
    {
     "name": "stdout",
     "output_type": "stream",
     "text": [
      "     year           GDP\n",
      "0  1950.0  74956.847656\n",
      "1  1951.0  86728.324219\n",
      "2  1952.0  91835.199219\n",
      "3  1953.0  97304.398438\n",
      "4  1954.0  97637.273438\n",
      "\n",
      "The year range is 75\n",
      "The number of missing years is 0\n"
     ]
    }
   ],
   "source": [
    "#Import the data\n",
    "Nominal_GDP_read=pd.read_csv(\"Economic_factors/FRED_data/Nominal_GDP_USA.csv\")\n",
    "\n",
    "GDP_data, GDP_start, GDP_end = Clean_FRED_Set(Nominal_GDP_read, 'year', 'GDP')\n",
    "\n",
    "years_bounds.append(GDP_start)\n",
    "years_bounds.append(GDP_end)\n",
    "\n",
    "\n",
    "#cheack that there are no missing years (gaps)\n",
    "print(GDP_data.head())\n",
    "print()\n",
    "print(f\"The year range is {(GDP_end-GDP_start+1)}\")\n",
    "print(f\"The number of missing years is {(GDP_end - GDP_start+1)- len(GDP_data)}\")\n",
    "\n",
    "data_sets_names.append('GDP_data')\n",
    "column_names.append('GDP')\n",
    "feature_description['GDP']=[\"Nominal GDP\",\"Million $\"]\n",
    "\n"
   ]
  },
  {
   "cell_type": "markdown",
   "metadata": {},
   "source": [
    "Apply our cleaning function to CPI inflation rate"
   ]
  },
  {
   "cell_type": "code",
   "execution_count": null,
   "metadata": {},
   "outputs": [
    {
     "name": "stdout",
     "output_type": "stream",
     "text": [
      "     year  CPI_inflation\n",
      "0  1913.0       9.883333\n",
      "1  1914.0      10.016667\n",
      "2  1915.0      10.108333\n",
      "3  1916.0      10.883333\n",
      "4  1917.0      12.825000\n",
      "\n",
      "The year range is 112\n",
      "The number of missing years is 0\n"
     ]
    }
   ],
   "source": [
    "#Import the data\n",
    "inflation_CPI_read=pd.read_csv(\"Economic_factors/FRED_data/CPI_inflation_rate_measure_1913_2024_monthly.csv\")\n",
    "\n",
    "CPI_data, CPI_start, CPI_end = Clean_FRED_Set(inflation_CPI_read, 'year', 'CPI_inflation')\n",
    "\n",
    "years_bounds.append(CPI_start)\n",
    "years_bounds.append(CPI_end)\n",
    "\n",
    "\n",
    "#cheack that there are no missing years (gaps)\n",
    "print(CPI_data.head())\n",
    "print()\n",
    "print(f\"The year range is {(CPI_end-CPI_start+1)}\")\n",
    "print(f\"The number of missing years is {(CPI_end - CPI_start+1)- len(CPI_data)}\")\n",
    "\n",
    "\n",
    "data_sets_names.append('CPI_data')\n",
    "column_names.append('CPI_inflation')\n",
    "feature_description['CPI_inflation']=[\"Consumer Price Index for All Urban Consumers: Purchasing Power of the Consumer Dollar in U.S. City Average\",\"1\"]\n",
    "\n"
   ]
  },
  {
   "cell_type": "markdown",
   "metadata": {},
   "source": [
    "Apply our cleaning function to the labor force by Bachelor Degree"
   ]
  },
  {
   "cell_type": "code",
   "execution_count": 15,
   "metadata": {},
   "outputs": [
    {
     "name": "stdout",
     "output_type": "stream",
     "text": [
      "     year   Labor_BS\n",
      "0  1992.0  81.341667\n",
      "1  1993.0  81.133333\n",
      "2  1994.0  81.141667\n",
      "3  1995.0  80.966667\n",
      "4  1996.0  80.508333\n",
      "\n",
      "The year range is 33\n",
      "The number of missing years is 0\n"
     ]
    }
   ],
   "source": [
    "#Import the data\n",
    "Labor_force_BS_read=pd.read_csv(\"Economic_factors/FRED_data/Labor_force_BS_Degree_1992_2024_monthly.csv\")\n",
    "\n",
    "Labor_BS_data, Labor_BS_start, Labor_BS_end = Clean_FRED_Set(Labor_force_BS_read, 'year', 'Labor_BS')\n",
    "\n",
    "years_bounds.append(Labor_BS_start)\n",
    "years_bounds.append(Labor_BS_end)\n",
    "\n",
    "\n",
    "#cheack that there are no missing years (gaps)\n",
    "print(Labor_BS_data.head())\n",
    "print()\n",
    "print(f\"The year range is {(Labor_BS_end-Labor_BS_start+1)}\")\n",
    "print(f\"The number of missing years is {(Labor_BS_end - Labor_BS_start+1)- len(Labor_BS_data)}\")\n",
    "\n",
    "\n",
    "data_sets_names.append('Labor_BS_data')\n",
    "column_names.append('Labor_BS')\n",
    "feature_description['Labor_BS']=[\"Labor Force Participation Rate - Bachelor's Degree and Higher, 25 Yrs. & over\",\"%\"]\n",
    "\n"
   ]
  },
  {
   "cell_type": "markdown",
   "metadata": {},
   "source": [
    "Apply our cleaning function to Labor market conditions activity level"
   ]
  },
  {
   "cell_type": "code",
   "execution_count": 16,
   "metadata": {},
   "outputs": [
    {
     "name": "stdout",
     "output_type": "stream",
     "text": [
      "     year  Labor_cond\n",
      "0  1992.0   -0.807656\n",
      "1  1993.0   -0.588828\n",
      "2  1994.0    0.019888\n",
      "3  1995.0    0.336564\n",
      "4  1996.0    0.408764\n",
      "\n",
      "The year range is 33\n",
      "The number of missing years is 0\n"
     ]
    }
   ],
   "source": [
    "#Import the data\n",
    "Labor_cond_read=pd.read_csv(\"Economic_factors/FRED_data/Labor_market_conditions_activity_level_1992_2024_monthly.csv\")\n",
    "\n",
    "Labor_cond_data, Labor_cond_start, Labor_cond_end = Clean_FRED_Set(Labor_cond_read, 'year', 'Labor_cond')\n",
    "\n",
    "years_bounds.append(Labor_cond_start)\n",
    "years_bounds.append(Labor_cond_end)\n",
    "\n",
    "\n",
    "#cheack that there are no missing years (gaps)\n",
    "print(Labor_cond_data.head())\n",
    "print()\n",
    "print(f\"The year range is {(Labor_cond_end-Labor_cond_start+1)}\")\n",
    "print(f\"The number of missing years is {(Labor_cond_end - Labor_cond_start+1)- len(Labor_cond_data)}\")\n",
    "\n",
    "\n",
    "data_sets_names.append('Labor_cond_data')\n",
    "column_names.append('Labor_cond')\n",
    "\n",
    "feature_description['Labor_cond']=[\"KC Fed Labor Market Conditions Index, Level of Activity Indicator \",\"1\"]\n"
   ]
  },
  {
   "cell_type": "markdown",
   "metadata": {},
   "source": [
    "Apply our cleaning function to unemployment for Bachelor Degree"
   ]
  },
  {
   "cell_type": "code",
   "execution_count": null,
   "metadata": {},
   "outputs": [
    {
     "name": "stdout",
     "output_type": "stream",
     "text": [
      "     year  Unemploy_BS\n",
      "0  1992.0     3.158333\n",
      "1  1993.0     2.941667\n",
      "2  1994.0     2.583333\n",
      "3  1995.0     2.450000\n",
      "4  1996.0     2.258333\n",
      "\n",
      "The year range is 33\n",
      "The number of missing years is 0\n"
     ]
    }
   ],
   "source": [
    "#Import the data\n",
    "Unemploy_BS_read=pd.read_csv(\"Economic_factors/FRED_data/Unemployment_rate_BS_Degree_1992_2024_monthly.csv\")\n",
    "\n",
    "Unemploy_BS_data, Unemploy_BS_start, Unemploy_BS_end = Clean_FRED_Set(Unemploy_BS_read, 'year', 'Unemploy_BS')\n",
    "\n",
    "years_bounds.append(Unemploy_BS_start)\n",
    "years_bounds.append(Unemploy_BS_end)\n",
    "\n",
    "\n",
    "#cheack that there are no missing years (gaps)\n",
    "print(Unemploy_BS_data.head())\n",
    "print()\n",
    "print(f\"The year range is {(Unemploy_BS_end-Unemploy_BS_start+1)}\")\n",
    "print(f\"The number of missing years is {(Unemploy_BS_end - Unemploy_BS_start+1)- len(Unemploy_BS_data)}\")\n",
    "\n",
    "\n",
    "data_sets_names.append('Unemploy_BS_data')\n",
    "column_names.append('Unemploy_BS')\n",
    "feature_description['Unemploy_BS']=[\"Unemployment Rate - Bachelor's Degree and Higher, 25 Yrs. & over\",\"%\"]\n",
    "\n"
   ]
  },
  {
   "cell_type": "markdown",
   "metadata": {},
   "source": [
    "Apply our cleaning function to unemployment rate"
   ]
  },
  {
   "cell_type": "code",
   "execution_count": 18,
   "metadata": {},
   "outputs": [
    {
     "name": "stdout",
     "output_type": "stream",
     "text": [
      "     year  Unemploy\n",
      "0  1948.0  3.766667\n",
      "1  1949.0  5.908333\n",
      "2  1950.0  5.325000\n",
      "3  1951.0  3.333333\n",
      "4  1952.0  3.033333\n",
      "\n",
      "The year range is 77\n",
      "The number of missing years is 0\n"
     ]
    }
   ],
   "source": [
    "#Import the data\n",
    "Unemploy_read=pd.read_csv(\"Economic_factors/FRED_data/Unemployment_rate_1948_2024_monthly.csv\")\n",
    "\n",
    "Unemploy_data, Unemploy_start, Unemploy_end = Clean_FRED_Set(Unemploy_read, 'year', 'Unemploy')\n",
    "\n",
    "years_bounds.append(Unemploy_start)\n",
    "years_bounds.append(Unemploy_end)\n",
    "\n",
    "\n",
    "#cheack that there are no missing years (gaps)\n",
    "print(Unemploy_data.head())\n",
    "print()\n",
    "print(f\"The year range is {(Unemploy_end-Unemploy_start+1)}\")\n",
    "print(f\"The number of missing years is {(Unemploy_end - Unemploy_start+1)- len(Unemploy_data)}\")\n",
    "\n",
    "data_sets_names.append('Unemploy_data')\n",
    "column_names.append('Unemploy')\n",
    "feature_description['Unemploy']=[\"Unemployment Rate\",\"%\"]\n"
   ]
  },
  {
   "cell_type": "markdown",
   "metadata": {},
   "source": [
    "### Combining Data\n",
    "In this section, we combine all the data into two CSV files: one with original faculty data (gapped) and one with interpolated faculty data.\n"
   ]
  },
  {
   "cell_type": "markdown",
   "metadata": {},
   "source": [
    "Original faculty data (gapped)"
   ]
  },
  {
   "cell_type": "code",
   "execution_count": 15,
   "metadata": {},
   "outputs": [
    {
     "name": "stdout",
     "output_type": "stream",
     "text": [
      "<class 'pandas.core.frame.DataFrame'>\n",
      "RangeIndex: 112 entries, 0 to 111\n",
      "Data columns (total 12 columns):\n",
      " #   Column          Non-Null Count  Dtype  \n",
      "---  ------          --------------  -----  \n",
      " 0   year            112 non-null    float64\n",
      " 1   faculty         38 non-null     float64\n",
      " 2   NSF_awards      13 non-null     float64\n",
      " 3   inflation_rate  45 non-null     float64\n",
      " 4   Fed_Budget      42 non-null     float64\n",
      " 5   PA_Budget_diff  42 non-null     float64\n",
      " 6   GDP             75 non-null     float64\n",
      " 7   CPI_inflation   112 non-null    float64\n",
      " 8   Labor_BS        33 non-null     float64\n",
      " 9   Labor_cond      33 non-null     float64\n",
      " 10  Unemploy_BS     33 non-null     float64\n",
      " 11  Unemploy        77 non-null     float64\n",
      "dtypes: float64(12)\n",
      "memory usage: 10.6 KB\n"
     ]
    }
   ],
   "source": [
    "# print(column_names)\n",
    "# print(data_sets_names)\n",
    "# print()\n",
    "\n",
    "#globals()[data_sets_names[1]][[column_names[0],column_names[2]]]\n",
    "\n",
    "first_year=np.min(years_bounds)\n",
    "last_year=np.max(years_bounds)\n",
    "all_years=np.arange(first_year,last_year+1,1)\n",
    "data=np.zeros((len(all_years),len(column_names)+1))\n",
    "\n",
    "\n",
    "year_iter=0\n",
    "for year in all_years:\n",
    "    col_iter=0\n",
    "    data[year_iter][col_iter]=year \n",
    "    for col_name in column_names:\n",
    "        data[year_iter][col_iter+1]=globals()[data_sets_names[col_iter]][globals()[data_sets_names[col_iter]]['year']==year][col_name].mean()\n",
    "        col_iter+=1\n",
    "    year_iter+=1 \n",
    "\n",
    "\n",
    "#We now convert the 2d array into a data frame and assign names\n",
    "new_column_names=np.concatenate((['year'],column_names))\n",
    "\n",
    "data=pd.DataFrame(data)\n",
    "data.columns=new_column_names\n",
    "\n",
    "data.info()\n",
    "\n",
    "data.to_csv('data_gapped.csv', index=False)"
   ]
  },
  {
   "cell_type": "markdown",
   "metadata": {},
   "source": [
    "The interpolated faculty data"
   ]
  },
  {
   "cell_type": "code",
   "execution_count": 16,
   "metadata": {},
   "outputs": [
    {
     "name": "stdout",
     "output_type": "stream",
     "text": [
      "<class 'pandas.core.frame.DataFrame'>\n",
      "RangeIndex: 112 entries, 0 to 111\n",
      "Data columns (total 12 columns):\n",
      " #   Column          Non-Null Count  Dtype  \n",
      "---  ------          --------------  -----  \n",
      " 0   year            112 non-null    float64\n",
      " 1   faculty         53 non-null     float64\n",
      " 2   NSF_awards      13 non-null     float64\n",
      " 3   inflation_rate  45 non-null     float64\n",
      " 4   Fed_Budget      42 non-null     float64\n",
      " 5   PA_Budget_diff  42 non-null     float64\n",
      " 6   GDP             75 non-null     float64\n",
      " 7   CPI_inflation   112 non-null    float64\n",
      " 8   Labor_BS        33 non-null     float64\n",
      " 9   Labor_cond      33 non-null     float64\n",
      " 10  Unemploy_BS     33 non-null     float64\n",
      " 11  Unemploy        77 non-null     float64\n",
      "dtypes: float64(12)\n",
      "memory usage: 10.6 KB\n"
     ]
    }
   ],
   "source": [
    "# print(column_names)\n",
    "# print(data_sets_names)\n",
    "# print()\n",
    "\n",
    "#globals()[data_sets_names[1]][[column_names[0],column_names[2]]]\n",
    "\n",
    "first_year=np.min(years_bounds)\n",
    "last_year=np.max(years_bounds)\n",
    "all_years=np.arange(first_year,last_year+1,1)\n",
    "data_interpolated=np.zeros((len(all_years),len(column_names)+1))\n",
    "\n",
    "data_sets_names[0]='faculty_data_interpolated'\n",
    "\n",
    "year_iter=0\n",
    "for year in all_years:\n",
    "    col_iter=0\n",
    "    data_interpolated[year_iter][col_iter]=year \n",
    "    for col_name in column_names:\n",
    "        data_interpolated[year_iter][col_iter+1]=globals()[data_sets_names[col_iter]][globals()[data_sets_names[col_iter]]['year']==year][col_name].mean()\n",
    "        col_iter+=1\n",
    "    year_iter+=1 \n",
    "\n",
    "\n",
    "#We now convert the 2d array into a data frame and assign names\n",
    "new_column_names=np.concatenate((['year'],column_names))\n",
    "\n",
    "data_interpolated=pd.DataFrame(data_interpolated)\n",
    "data_interpolated.columns=new_column_names\n",
    "\n",
    "data_interpolated.info()\n",
    "\n",
    "\n",
    "data_interpolated.to_csv('data_interpolated.csv', index=False)"
   ]
  },
  {
   "cell_type": "markdown",
   "metadata": {},
   "source": [
    "The data frame that describes each feature and states the units"
   ]
  },
  {
   "cell_type": "code",
   "execution_count": 22,
   "metadata": {},
   "outputs": [
    {
     "data": {
      "text/html": [
       "<div>\n",
       "<style scoped>\n",
       "    .dataframe tbody tr th:only-of-type {\n",
       "        vertical-align: middle;\n",
       "    }\n",
       "\n",
       "    .dataframe tbody tr th {\n",
       "        vertical-align: top;\n",
       "    }\n",
       "\n",
       "    .dataframe thead th {\n",
       "        text-align: right;\n",
       "    }\n",
       "</style>\n",
       "<table border=\"1\" class=\"dataframe\">\n",
       "  <thead>\n",
       "    <tr style=\"text-align: right;\">\n",
       "      <th></th>\n",
       "      <th>faculty</th>\n",
       "      <th>NSF_awards</th>\n",
       "      <th>inflation_rate</th>\n",
       "      <th>Fed_Budget</th>\n",
       "      <th>PA_Budget_diff</th>\n",
       "      <th>GDP</th>\n",
       "      <th>Labor_BS</th>\n",
       "      <th>Labor_cond</th>\n",
       "      <th>Unemploy_BS</th>\n",
       "      <th>Unemploy</th>\n",
       "    </tr>\n",
       "  </thead>\n",
       "  <tbody>\n",
       "    <tr>\n",
       "      <th>0</th>\n",
       "      <td># of faculty in a given year</td>\n",
       "      <td>Total amount of NSF awards in a given year</td>\n",
       "      <td>Inflation rate, average consumer prices, annua...</td>\n",
       "      <td>Federal budget for postsecondary education in ...</td>\n",
       "      <td>The difference between the president's propose...</td>\n",
       "      <td>Nominal GDP</td>\n",
       "      <td>Labor Force Participation Rate - Bachelor's De...</td>\n",
       "      <td>KC Fed Labor Market Conditions Index, Level of...</td>\n",
       "      <td>Unemployment Rate - Bachelor's Degree and High...</td>\n",
       "      <td>Unemployment Rate</td>\n",
       "    </tr>\n",
       "    <tr>\n",
       "      <th>1</th>\n",
       "      <td>faculty</td>\n",
       "      <td>Million $</td>\n",
       "      <td>%</td>\n",
       "      <td>Million $</td>\n",
       "      <td>Million $</td>\n",
       "      <td>Million $</td>\n",
       "      <td>%</td>\n",
       "      <td>1</td>\n",
       "      <td>%</td>\n",
       "      <td>%</td>\n",
       "    </tr>\n",
       "  </tbody>\n",
       "</table>\n",
       "</div>"
      ],
      "text/plain": [
       "                        faculty                                  NSF_awards  \\\n",
       "0  # of faculty in a given year  Total amount of NSF awards in a given year   \n",
       "1                       faculty                                   Million $   \n",
       "\n",
       "                                      inflation_rate  \\\n",
       "0  Inflation rate, average consumer prices, annua...   \n",
       "1                                                  %   \n",
       "\n",
       "                                          Fed_Budget  \\\n",
       "0  Federal budget for postsecondary education in ...   \n",
       "1                                          Million $   \n",
       "\n",
       "                                      PA_Budget_diff          GDP  \\\n",
       "0  The difference between the president's propose...  Nominal GDP   \n",
       "1                                          Million $    Million $   \n",
       "\n",
       "                                            Labor_BS  \\\n",
       "0  Labor Force Participation Rate - Bachelor's De...   \n",
       "1                                                  %   \n",
       "\n",
       "                                          Labor_cond  \\\n",
       "0  KC Fed Labor Market Conditions Index, Level of...   \n",
       "1                                                  1   \n",
       "\n",
       "                                         Unemploy_BS           Unemploy  \n",
       "0  Unemployment Rate - Bachelor's Degree and High...  Unemployment Rate  \n",
       "1                                                  %                  %  "
      ]
     },
     "execution_count": 22,
     "metadata": {},
     "output_type": "execute_result"
    }
   ],
   "source": [
    "feature_description=pd.DataFrame(feature_description)\n",
    "feature_description.to_csv('data_description_and_units.csv', index=False)\n",
    "feature_description"
   ]
  }
 ],
 "metadata": {
  "kernelspec": {
   "display_name": "erdos_fall_2024",
   "language": "python",
   "name": "python3"
  },
  "language_info": {
   "codemirror_mode": {
    "name": "ipython",
    "version": 3
   },
   "file_extension": ".py",
   "mimetype": "text/x-python",
   "name": "python",
   "nbconvert_exporter": "python",
   "pygments_lexer": "ipython3",
   "version": "3.12.5"
  }
 },
 "nbformat": 4,
 "nbformat_minor": 2
}
