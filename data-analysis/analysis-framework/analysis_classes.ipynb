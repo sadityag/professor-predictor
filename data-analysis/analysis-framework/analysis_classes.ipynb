{
 "cells": [
  {
   "cell_type": "code",
   "execution_count": 1,
   "metadata": {},
   "outputs": [],
   "source": [
    "from analysis_classes import PredictiveRegression\n",
    "import pandas as pd\n",
    "\n",
    "tsr = PredictiveRegression()\n",
    "keys = ['year','GDP', 'Fed_Budget', 'inflation_rate', 'PA_Budget_diff', 'CPI_inflation', 'Labor_BS', 'Labor_cond', 'Unemploy_BS', 'Unemploy']\n",
    "X = pd.read_csv('../../data-collection/data_interpolated.csv')[keys[0]]\n",
    "Y = pd.read_csv('../../data-collection/data_interpolated.csv')['faculty']"
   ]
  },
  {
   "cell_type": "code",
   "execution_count": 2,
   "metadata": {},
   "outputs": [
    {
     "ename": "ValueError",
     "evalue": "operands could not be broadcast together with shapes (47,) (53,) ",
     "output_type": "error",
     "traceback": [
      "\u001b[1;31m---------------------------------------------------------------------------\u001b[0m",
      "\u001b[1;31mValueError\u001b[0m                                Traceback (most recent call last)",
      "Cell \u001b[1;32mIn[2], line 1\u001b[0m\n\u001b[1;32m----> 1\u001b[0m \u001b[43mtsr\u001b[49m\u001b[38;5;241;43m.\u001b[39;49m\u001b[43mtime_series_regression\u001b[49m\u001b[43m(\u001b[49m\u001b[43mX\u001b[49m\u001b[43m,\u001b[49m\u001b[43m \u001b[49m\u001b[43mY\u001b[49m\u001b[43m)\u001b[49m\n",
      "File \u001b[1;32md:\\OneDrive - ucsc.edu\\Job Application\\Erdos Institute\\Datas Science Bootcamp\\Project\\professor-predictor\\data-analysis\\analysis-framework\\analysis_classes.py:345\u001b[0m, in \u001b[0;36mPredictiveRegression.time_series_regression\u001b[1;34m(self, X, Y, trend_method, period, max_harmonics)\u001b[0m\n\u001b[0;32m    329\u001b[0m \u001b[38;5;28;01melse\u001b[39;00m:\n\u001b[0;32m    330\u001b[0m     future_value \u001b[38;5;241m=\u001b[39m \u001b[38;5;28;01mNone\u001b[39;00m\n\u001b[0;32m    332\u001b[0m \u001b[38;5;28;01mreturn\u001b[39;00m {\n\u001b[0;32m    333\u001b[0m     \u001b[38;5;124m'\u001b[39m\u001b[38;5;124mtrend\u001b[39m\u001b[38;5;124m'\u001b[39m: pd\u001b[38;5;241m.\u001b[39mSeries(trend, index\u001b[38;5;241m=\u001b[39mX_clean\u001b[38;5;241m.\u001b[39mindex),\n\u001b[0;32m    334\u001b[0m     \u001b[38;5;124m'\u001b[39m\u001b[38;5;124mcycle\u001b[39m\u001b[38;5;124m'\u001b[39m: pd\u001b[38;5;241m.\u001b[39mSeries(cycle_results[\u001b[38;5;124m'\u001b[39m\u001b[38;5;124mcycle\u001b[39m\u001b[38;5;124m'\u001b[39m], index\u001b[38;5;241m=\u001b[39mX_clean\u001b[38;5;241m.\u001b[39mindex),\n\u001b[0;32m    335\u001b[0m     \u001b[38;5;124m'\u001b[39m\u001b[38;5;124mclean_years\u001b[39m\u001b[38;5;124m'\u001b[39m: X_clean,\n\u001b[0;32m    336\u001b[0m     \u001b[38;5;124m'\u001b[39m\u001b[38;5;124mclean_data\u001b[39m\u001b[38;5;124m'\u001b[39m: Y_clean,\n\u001b[0;32m    337\u001b[0m     \u001b[38;5;124m'\u001b[39m\u001b[38;5;124mfuture_value\u001b[39m\u001b[38;5;124m'\u001b[39m: future_value,\n\u001b[0;32m    338\u001b[0m     \u001b[38;5;124m'\u001b[39m\u001b[38;5;124mtrend_results\u001b[39m\u001b[38;5;124m'\u001b[39m: trend_results,\n\u001b[0;32m    339\u001b[0m     \u001b[38;5;124m'\u001b[39m\u001b[38;5;124mcycle_results\u001b[39m\u001b[38;5;124m'\u001b[39m: cycle_results,\n\u001b[0;32m    340\u001b[0m     \u001b[38;5;124m'\u001b[39m\u001b[38;5;124mplot_data\u001b[39m\u001b[38;5;124m'\u001b[39m: pd\u001b[38;5;241m.\u001b[39mDataFrame({\n\u001b[0;32m    341\u001b[0m         \u001b[38;5;124m'\u001b[39m\u001b[38;5;124mtime\u001b[39m\u001b[38;5;124m'\u001b[39m: X_clean,\n\u001b[0;32m    342\u001b[0m         \u001b[38;5;124m'\u001b[39m\u001b[38;5;124moriginal\u001b[39m\u001b[38;5;124m'\u001b[39m: Y_clean,\n\u001b[0;32m    343\u001b[0m         \u001b[38;5;124m'\u001b[39m\u001b[38;5;124mtrend\u001b[39m\u001b[38;5;124m'\u001b[39m: trend,\n\u001b[0;32m    344\u001b[0m         \u001b[38;5;124m'\u001b[39m\u001b[38;5;124mcycle\u001b[39m\u001b[38;5;124m'\u001b[39m: cycle_results[\u001b[38;5;124m'\u001b[39m\u001b[38;5;124mcycle\u001b[39m\u001b[38;5;124m'\u001b[39m],\n\u001b[1;32m--> 345\u001b[0m         \u001b[38;5;124m'\u001b[39m\u001b[38;5;124mcombined\u001b[39m\u001b[38;5;124m'\u001b[39m: \u001b[43mtrend\u001b[49m\u001b[43m \u001b[49m\u001b[38;5;241;43m+\u001b[39;49m\u001b[43m \u001b[49m\u001b[43mcycle_results\u001b[49m\u001b[43m[\u001b[49m\u001b[38;5;124;43m'\u001b[39;49m\u001b[38;5;124;43mcycle\u001b[39;49m\u001b[38;5;124;43m'\u001b[39;49m\u001b[43m]\u001b[49m\n\u001b[0;32m    346\u001b[0m     })\n\u001b[0;32m    347\u001b[0m }\n",
      "File \u001b[1;32mc:\\Users\\sadit\\AppData\\Local\\Programs\\Python\\Python312\\Lib\\site-packages\\pandas\\core\\ops\\common.py:76\u001b[0m, in \u001b[0;36m_unpack_zerodim_and_defer.<locals>.new_method\u001b[1;34m(self, other)\u001b[0m\n\u001b[0;32m     72\u001b[0m             \u001b[38;5;28;01mreturn\u001b[39;00m \u001b[38;5;28mNotImplemented\u001b[39m\n\u001b[0;32m     74\u001b[0m other \u001b[38;5;241m=\u001b[39m item_from_zerodim(other)\n\u001b[1;32m---> 76\u001b[0m \u001b[38;5;28;01mreturn\u001b[39;00m \u001b[43mmethod\u001b[49m\u001b[43m(\u001b[49m\u001b[38;5;28;43mself\u001b[39;49m\u001b[43m,\u001b[49m\u001b[43m \u001b[49m\u001b[43mother\u001b[49m\u001b[43m)\u001b[49m\n",
      "File \u001b[1;32mc:\\Users\\sadit\\AppData\\Local\\Programs\\Python\\Python312\\Lib\\site-packages\\pandas\\core\\arraylike.py:186\u001b[0m, in \u001b[0;36mOpsMixin.__add__\u001b[1;34m(self, other)\u001b[0m\n\u001b[0;32m     98\u001b[0m \u001b[38;5;129m@unpack_zerodim_and_defer\u001b[39m(\u001b[38;5;124m\"\u001b[39m\u001b[38;5;124m__add__\u001b[39m\u001b[38;5;124m\"\u001b[39m)\n\u001b[0;32m     99\u001b[0m \u001b[38;5;28;01mdef\u001b[39;00m \u001b[38;5;21m__add__\u001b[39m(\u001b[38;5;28mself\u001b[39m, other):\n\u001b[0;32m    100\u001b[0m \u001b[38;5;250m    \u001b[39m\u001b[38;5;124;03m\"\"\"\u001b[39;00m\n\u001b[0;32m    101\u001b[0m \u001b[38;5;124;03m    Get Addition of DataFrame and other, column-wise.\u001b[39;00m\n\u001b[0;32m    102\u001b[0m \n\u001b[1;32m   (...)\u001b[0m\n\u001b[0;32m    184\u001b[0m \u001b[38;5;124;03m    moose     3.0     NaN\u001b[39;00m\n\u001b[0;32m    185\u001b[0m \u001b[38;5;124;03m    \"\"\"\u001b[39;00m\n\u001b[1;32m--> 186\u001b[0m     \u001b[38;5;28;01mreturn\u001b[39;00m \u001b[38;5;28;43mself\u001b[39;49m\u001b[38;5;241;43m.\u001b[39;49m\u001b[43m_arith_method\u001b[49m\u001b[43m(\u001b[49m\u001b[43mother\u001b[49m\u001b[43m,\u001b[49m\u001b[43m \u001b[49m\u001b[43moperator\u001b[49m\u001b[38;5;241;43m.\u001b[39;49m\u001b[43madd\u001b[49m\u001b[43m)\u001b[49m\n",
      "File \u001b[1;32mc:\\Users\\sadit\\AppData\\Local\\Programs\\Python\\Python312\\Lib\\site-packages\\pandas\\core\\series.py:6135\u001b[0m, in \u001b[0;36mSeries._arith_method\u001b[1;34m(self, other, op)\u001b[0m\n\u001b[0;32m   6133\u001b[0m \u001b[38;5;28;01mdef\u001b[39;00m \u001b[38;5;21m_arith_method\u001b[39m(\u001b[38;5;28mself\u001b[39m, other, op):\n\u001b[0;32m   6134\u001b[0m     \u001b[38;5;28mself\u001b[39m, other \u001b[38;5;241m=\u001b[39m \u001b[38;5;28mself\u001b[39m\u001b[38;5;241m.\u001b[39m_align_for_op(other)\n\u001b[1;32m-> 6135\u001b[0m     \u001b[38;5;28;01mreturn\u001b[39;00m \u001b[43mbase\u001b[49m\u001b[38;5;241;43m.\u001b[39;49m\u001b[43mIndexOpsMixin\u001b[49m\u001b[38;5;241;43m.\u001b[39;49m\u001b[43m_arith_method\u001b[49m\u001b[43m(\u001b[49m\u001b[38;5;28;43mself\u001b[39;49m\u001b[43m,\u001b[49m\u001b[43m \u001b[49m\u001b[43mother\u001b[49m\u001b[43m,\u001b[49m\u001b[43m \u001b[49m\u001b[43mop\u001b[49m\u001b[43m)\u001b[49m\n",
      "File \u001b[1;32mc:\\Users\\sadit\\AppData\\Local\\Programs\\Python\\Python312\\Lib\\site-packages\\pandas\\core\\base.py:1382\u001b[0m, in \u001b[0;36mIndexOpsMixin._arith_method\u001b[1;34m(self, other, op)\u001b[0m\n\u001b[0;32m   1379\u001b[0m     rvalues \u001b[38;5;241m=\u001b[39m np\u001b[38;5;241m.\u001b[39marange(rvalues\u001b[38;5;241m.\u001b[39mstart, rvalues\u001b[38;5;241m.\u001b[39mstop, rvalues\u001b[38;5;241m.\u001b[39mstep)\n\u001b[0;32m   1381\u001b[0m \u001b[38;5;28;01mwith\u001b[39;00m np\u001b[38;5;241m.\u001b[39merrstate(\u001b[38;5;28mall\u001b[39m\u001b[38;5;241m=\u001b[39m\u001b[38;5;124m\"\u001b[39m\u001b[38;5;124mignore\u001b[39m\u001b[38;5;124m\"\u001b[39m):\n\u001b[1;32m-> 1382\u001b[0m     result \u001b[38;5;241m=\u001b[39m \u001b[43mops\u001b[49m\u001b[38;5;241;43m.\u001b[39;49m\u001b[43marithmetic_op\u001b[49m\u001b[43m(\u001b[49m\u001b[43mlvalues\u001b[49m\u001b[43m,\u001b[49m\u001b[43m \u001b[49m\u001b[43mrvalues\u001b[49m\u001b[43m,\u001b[49m\u001b[43m \u001b[49m\u001b[43mop\u001b[49m\u001b[43m)\u001b[49m\n\u001b[0;32m   1384\u001b[0m \u001b[38;5;28;01mreturn\u001b[39;00m \u001b[38;5;28mself\u001b[39m\u001b[38;5;241m.\u001b[39m_construct_result(result, name\u001b[38;5;241m=\u001b[39mres_name)\n",
      "File \u001b[1;32mc:\\Users\\sadit\\AppData\\Local\\Programs\\Python\\Python312\\Lib\\site-packages\\pandas\\core\\ops\\array_ops.py:283\u001b[0m, in \u001b[0;36marithmetic_op\u001b[1;34m(left, right, op)\u001b[0m\n\u001b[0;32m    279\u001b[0m     _bool_arith_check(op, left, right)  \u001b[38;5;66;03m# type: ignore[arg-type]\u001b[39;00m\n\u001b[0;32m    281\u001b[0m     \u001b[38;5;66;03m# error: Argument 1 to \"_na_arithmetic_op\" has incompatible type\u001b[39;00m\n\u001b[0;32m    282\u001b[0m     \u001b[38;5;66;03m# \"Union[ExtensionArray, ndarray[Any, Any]]\"; expected \"ndarray[Any, Any]\"\u001b[39;00m\n\u001b[1;32m--> 283\u001b[0m     res_values \u001b[38;5;241m=\u001b[39m \u001b[43m_na_arithmetic_op\u001b[49m\u001b[43m(\u001b[49m\u001b[43mleft\u001b[49m\u001b[43m,\u001b[49m\u001b[43m \u001b[49m\u001b[43mright\u001b[49m\u001b[43m,\u001b[49m\u001b[43m \u001b[49m\u001b[43mop\u001b[49m\u001b[43m)\u001b[49m  \u001b[38;5;66;03m# type: ignore[arg-type]\u001b[39;00m\n\u001b[0;32m    285\u001b[0m \u001b[38;5;28;01mreturn\u001b[39;00m res_values\n",
      "File \u001b[1;32mc:\\Users\\sadit\\AppData\\Local\\Programs\\Python\\Python312\\Lib\\site-packages\\pandas\\core\\ops\\array_ops.py:218\u001b[0m, in \u001b[0;36m_na_arithmetic_op\u001b[1;34m(left, right, op, is_cmp)\u001b[0m\n\u001b[0;32m    215\u001b[0m     func \u001b[38;5;241m=\u001b[39m partial(expressions\u001b[38;5;241m.\u001b[39mevaluate, op)\n\u001b[0;32m    217\u001b[0m \u001b[38;5;28;01mtry\u001b[39;00m:\n\u001b[1;32m--> 218\u001b[0m     result \u001b[38;5;241m=\u001b[39m \u001b[43mfunc\u001b[49m\u001b[43m(\u001b[49m\u001b[43mleft\u001b[49m\u001b[43m,\u001b[49m\u001b[43m \u001b[49m\u001b[43mright\u001b[49m\u001b[43m)\u001b[49m\n\u001b[0;32m    219\u001b[0m \u001b[38;5;28;01mexcept\u001b[39;00m \u001b[38;5;167;01mTypeError\u001b[39;00m:\n\u001b[0;32m    220\u001b[0m     \u001b[38;5;28;01mif\u001b[39;00m \u001b[38;5;129;01mnot\u001b[39;00m is_cmp \u001b[38;5;129;01mand\u001b[39;00m (\n\u001b[0;32m    221\u001b[0m         left\u001b[38;5;241m.\u001b[39mdtype \u001b[38;5;241m==\u001b[39m \u001b[38;5;28mobject\u001b[39m \u001b[38;5;129;01mor\u001b[39;00m \u001b[38;5;28mgetattr\u001b[39m(right, \u001b[38;5;124m\"\u001b[39m\u001b[38;5;124mdtype\u001b[39m\u001b[38;5;124m\"\u001b[39m, \u001b[38;5;28;01mNone\u001b[39;00m) \u001b[38;5;241m==\u001b[39m \u001b[38;5;28mobject\u001b[39m\n\u001b[0;32m    222\u001b[0m     ):\n\u001b[1;32m   (...)\u001b[0m\n\u001b[0;32m    225\u001b[0m         \u001b[38;5;66;03m# Don't do this for comparisons, as that will handle complex numbers\u001b[39;00m\n\u001b[0;32m    226\u001b[0m         \u001b[38;5;66;03m#  incorrectly, see GH#32047\u001b[39;00m\n",
      "File \u001b[1;32mc:\\Users\\sadit\\AppData\\Local\\Programs\\Python\\Python312\\Lib\\site-packages\\pandas\\core\\computation\\expressions.py:242\u001b[0m, in \u001b[0;36mevaluate\u001b[1;34m(op, a, b, use_numexpr)\u001b[0m\n\u001b[0;32m    239\u001b[0m \u001b[38;5;28;01mif\u001b[39;00m op_str \u001b[38;5;129;01mis\u001b[39;00m \u001b[38;5;129;01mnot\u001b[39;00m \u001b[38;5;28;01mNone\u001b[39;00m:\n\u001b[0;32m    240\u001b[0m     \u001b[38;5;28;01mif\u001b[39;00m use_numexpr:\n\u001b[0;32m    241\u001b[0m         \u001b[38;5;66;03m# error: \"None\" not callable\u001b[39;00m\n\u001b[1;32m--> 242\u001b[0m         \u001b[38;5;28;01mreturn\u001b[39;00m \u001b[43m_evaluate\u001b[49m\u001b[43m(\u001b[49m\u001b[43mop\u001b[49m\u001b[43m,\u001b[49m\u001b[43m \u001b[49m\u001b[43mop_str\u001b[49m\u001b[43m,\u001b[49m\u001b[43m \u001b[49m\u001b[43ma\u001b[49m\u001b[43m,\u001b[49m\u001b[43m \u001b[49m\u001b[43mb\u001b[49m\u001b[43m)\u001b[49m  \u001b[38;5;66;03m# type: ignore[misc]\u001b[39;00m\n\u001b[0;32m    243\u001b[0m \u001b[38;5;28;01mreturn\u001b[39;00m _evaluate_standard(op, op_str, a, b)\n",
      "File \u001b[1;32mc:\\Users\\sadit\\AppData\\Local\\Programs\\Python\\Python312\\Lib\\site-packages\\pandas\\core\\computation\\expressions.py:73\u001b[0m, in \u001b[0;36m_evaluate_standard\u001b[1;34m(op, op_str, a, b)\u001b[0m\n\u001b[0;32m     71\u001b[0m \u001b[38;5;28;01mif\u001b[39;00m _TEST_MODE:\n\u001b[0;32m     72\u001b[0m     _store_test_result(\u001b[38;5;28;01mFalse\u001b[39;00m)\n\u001b[1;32m---> 73\u001b[0m \u001b[38;5;28;01mreturn\u001b[39;00m \u001b[43mop\u001b[49m\u001b[43m(\u001b[49m\u001b[43ma\u001b[49m\u001b[43m,\u001b[49m\u001b[43m \u001b[49m\u001b[43mb\u001b[49m\u001b[43m)\u001b[49m\n",
      "\u001b[1;31mValueError\u001b[0m: operands could not be broadcast together with shapes (47,) (53,) "
     ]
    }
   ],
   "source": [
    "tsr.time_series_regression(X, Y)"
   ]
  },
  {
   "cell_type": "code",
   "execution_count": null,
   "metadata": {},
   "outputs": [
    {
     "data": {
      "text/plain": [
       "{'lag': 0,\n",
       " 'prediction': nan,\n",
       " 'r2': np.float64(0.6774823878205005),\n",
       " 'rmse': np.float64(180169.7446061782),\n",
       " 'mae': np.float64(107908.46248278492),\n",
       " 'aic': np.float64(1040.538995731807),\n",
       " 'plot_data':              X     Y_data        Y_pred\n",
       " 67    5645.806   686000.0  6.806592e+05\n",
       " 68    6934.329   705000.0  7.121070e+05\n",
       " 69    7282.939   710000.0  7.213289e+05\n",
       " 70    7358.132   724000.0  7.233742e+05\n",
       " 71    6891.971   717000.0  7.110016e+05\n",
       " 72    9684.133   715000.0  8.606615e+05\n",
       " 73    8723.833   722000.0  7.977418e+05\n",
       " 74    8944.795   793070.0  8.085240e+05\n",
       " 75    8850.084   808645.0  8.026951e+05\n",
       " 76   10913.033   824220.0  9.107554e+05\n",
       " 77   12159.458   825236.0  9.408427e+05\n",
       " 78   13165.889   826252.0  9.496792e+05\n",
       " 79   15600.923   870863.0  9.510157e+05\n",
       " 80   15788.397   915474.0  9.629505e+05\n",
       " 81    9419.346   923590.0  8.429214e+05\n",
       " 82   14075.117   931706.0  9.310609e+05\n",
       " 83   12289.881   960759.5  9.423306e+05\n",
       " 84   12970.569   989813.0  9.477771e+05\n",
       " 85   13246.660  1013671.0  9.506905e+05\n",
       " 86   12862.266  1037529.0  9.468732e+05\n",
       " 87   11037.116  1075356.0  9.121693e+05\n",
       " 88    9630.100  1113183.0  8.567945e+05\n",
       " 89   18704.401  1143388.0  1.084113e+06\n",
       " 90   22676.318  1173593.0  1.258813e+06\n",
       " 91   24678.534  1232009.5  1.326924e+06\n",
       " 92   28267.338  1290426.0  1.434842e+06\n",
       " 93   55877.866  1331006.5  1.483255e+06\n",
       " 94   23841.951  1371587.0  1.301100e+06\n",
       " 95   24454.514  1405330.5  1.319982e+06\n",
       " 96   -4621.081  1439074.0  1.566449e+06\n",
       " 97    8349.834  1481771.5  7.781160e+05\n",
       " 98     685.174  1524469.0  1.198958e+06\n",
       " 99   -4165.607  1534925.0  1.536646e+06\n",
       " 100  -2561.005  1545381.0  1.426641e+06\n",
       " 101  11326.765  1548818.5  9.218570e+05\n",
       " 102  44151.090  1552256.0  1.487632e+06\n",
       " 103  32034.744  1546081.0  1.524506e+06\n",
       " 104  70656.050  1545653.0  1.494374e+06\n",
       " 105  23441.344  1543212.0  1.288951e+06\n",
       " 106  29905.319  1548824.0  1.479073e+06\n",
       " 107  45667.257  1489565.0  1.478034e+06\n",
       " 108  45771.126  1499236.0  1.477372e+06,\n",
       " 'cv_score': np.float64(-61.302643033104495),\n",
       " 'cv_error': np.float64(71.63762058416702)}"
      ]
     },
     "execution_count": 5,
     "metadata": {},
     "output_type": "execute_result"
    }
   ],
   "source": [
    "tsr.lowess_regression(X,Y)"
   ]
  },
  {
   "cell_type": "code",
   "execution_count": 6,
   "metadata": {},
   "outputs": [
    {
     "data": {
      "text/plain": [
       "{'lag': 0,\n",
       " 'prediction': 1512672.2699484585,\n",
       " 'r2': np.float64(0.7977061239455167),\n",
       " 'rmse': np.float64(142690.97745082542),\n",
       " 'mae': np.float64(44952.66234428769),\n",
       " 'aic': np.float64(1006.9486722220174),\n",
       " 'params': (1, 2, 1),\n",
       " 'plot_data':              X     Y_data        Y_pred\n",
       " 67    5645.806   686000.0 -1.696796e+02\n",
       " 68    6934.329   705000.0  1.307304e+06\n",
       " 69    7282.939   710000.0  7.330375e+05\n",
       " 70    7358.132   724000.0  7.248206e+05\n",
       " 71    6891.971   717000.0  7.460954e+05\n",
       " 72    9684.133   715000.0  7.199194e+05\n",
       " 73    8723.833   722000.0  7.218688e+05\n",
       " 74    8944.795   793070.0  7.360743e+05\n",
       " 75    8850.084   808645.0  8.625402e+05\n",
       " 76   10913.033   824220.0  8.300009e+05\n",
       " 77   12159.458   825236.0  8.453604e+05\n",
       " 78   13165.889   826252.0  8.335442e+05\n",
       " 79   15600.923   870863.0  8.341761e+05\n",
       " 80   15788.397   915474.0  9.159837e+05\n",
       " 81    9419.346   923590.0  9.607153e+05\n",
       " 82   14075.117   931706.0  9.371367e+05\n",
       " 83   12289.881   960759.5  9.455050e+05\n",
       " 84   12970.569   989813.0  9.919378e+05\n",
       " 85   13246.660  1013671.0  1.020987e+06\n",
       " 86   12862.266  1037529.0  1.040372e+06\n",
       " 87   11037.116  1075356.0  1.064162e+06\n",
       " 88    9630.100  1113183.0  1.113674e+06\n",
       " 89   18704.401  1143388.0  1.151181e+06\n",
       " 90   22676.318  1173593.0  1.175354e+06\n",
       " 91   24678.534  1232009.5  1.205441e+06\n",
       " 92   28267.338  1290426.0  1.287487e+06\n",
       " 93   55877.866  1331006.5  1.345303e+06\n",
       " 94   23841.951  1371587.0  1.373358e+06\n",
       " 95   24454.514  1405330.5  1.411452e+06\n",
       " 96   -4621.081  1439074.0  1.441164e+06\n",
       " 97    8349.834  1481771.5  1.472865e+06\n",
       " 98     685.174  1524469.0  1.524717e+06\n",
       " 99   -4165.607  1534925.0  1.566819e+06\n",
       " 100  -2561.005  1545381.0  1.550163e+06\n",
       " 101  11326.765  1548818.5  1.560298e+06\n",
       " 102  44151.090  1552256.0  1.557498e+06\n",
       " 103  32034.744  1546081.0  1.562635e+06\n",
       " 104  70656.050  1545653.0  1.545658e+06\n",
       " 105  23441.344  1543212.0  1.553729e+06\n",
       " 106  29905.319  1548824.0  1.545721e+06\n",
       " 107  45667.257  1489565.0  1.558983e+06\n",
       " 108  45771.126  1499236.0  1.446256e+06,\n",
       " 'cv_score': np.float64(-1.4160676516210005),\n",
       " 'cv_error': np.float64(1.7211422045266356)}"
      ]
     },
     "execution_count": 6,
     "metadata": {},
     "output_type": "execute_result"
    }
   ],
   "source": [
    "tsr.arima_regression(X,Y)"
   ]
  },
  {
   "cell_type": "code",
   "execution_count": 7,
   "metadata": {},
   "outputs": [
    {
     "name": "stdout",
     "output_type": "stream",
     "text": [
      "Warning: Error in fold: boolean index did not match indexed array along axis 1; size of axis is 1 but size of corresponding boolean axis is 7\n",
      "Warning: Error in fold: boolean index did not match indexed array along axis 1; size of axis is 1 but size of corresponding boolean axis is 14\n",
      "Warning: Error in fold: boolean index did not match indexed array along axis 1; size of axis is 1 but size of corresponding boolean axis is 21\n",
      "Warning: Error in fold: boolean index did not match indexed array along axis 1; size of axis is 1 but size of corresponding boolean axis is 28\n",
      "Warning: Error in fold: boolean index did not match indexed array along axis 1; size of axis is 1 but size of corresponding boolean axis is 35\n"
     ]
    },
    {
     "data": {
      "text/plain": [
       "{'lag': 0,\n",
       " 'prediction': nan,\n",
       " 'r2': np.float64(0.6360945501563218),\n",
       " 'rmse': np.float64(191381.2667564242),\n",
       " 'mae': np.float64(139871.91912431727),\n",
       " 'aic': np.float64(1025.60992178351),\n",
       " 'std': nan,\n",
       " 'plot_data':              X     Y_data        Y_pred          Y_std\n",
       " 67    5645.806   686000.0  9.814426e+05  213033.178961\n",
       " 68    6934.329   705000.0  9.481318e+05  211756.095138\n",
       " 69    7282.939   710000.0  9.409398e+05  211453.042187\n",
       " 70    7358.132   724000.0  9.394924e+05  211390.534073\n",
       " 71    6891.971   717000.0  9.490593e+05  211794.336078\n",
       " 72    9684.133   715000.0  9.132142e+05  210069.131580\n",
       " 73    8723.833   722000.0  9.197024e+05  210459.432138\n",
       " 74    8944.795   793070.0  9.176661e+05  210349.041583\n",
       " 75    8850.084   808645.0  9.184991e+05  210394.887031\n",
       " 76   10913.033   824220.0  9.137630e+05  209916.928449\n",
       " 77   12159.458   825236.0  9.241070e+05  210144.234685\n",
       " 78   13165.889   826252.0  9.392143e+05  210564.262119\n",
       " 79   15600.923   870863.0  9.976046e+05  212095.143792\n",
       " 80   15788.397   915474.0  1.003210e+06  212224.894884\n",
       " 81    9419.346   923590.0  9.143916e+05  210153.283255\n",
       " 82   14075.117   931706.0  9.576436e+05  211077.890362\n",
       " 83   12289.881   960759.5  9.257349e+05  210187.948980\n",
       " 84   12970.569   989813.0  9.358331e+05  210468.847612\n",
       " 85   13246.660  1013671.0  9.406739e+05  210605.447980\n",
       " 86   12862.266  1037529.0  9.340498e+05  210418.613279\n",
       " 87   11037.116  1075356.0  9.143596e+05  209923.041926\n",
       " 88    9630.100  1113183.0  9.134168e+05  210084.828269\n",
       " 89   18704.401  1143388.0  1.105214e+06  214038.350022\n",
       " 90   22676.318  1173593.0  1.265645e+06  215579.374916\n",
       " 91   24678.534  1232009.5  1.343670e+06  216512.553251\n",
       " 92   28267.338  1290426.0  1.461199e+06  220060.282104\n",
       " 93   55877.866  1331006.5  1.395417e+06  257465.406761\n",
       " 94   23841.951  1371587.0  1.311816e+06  216063.074261\n",
       " 95   24454.514  1405330.5  1.335267e+06  216381.478889\n",
       " 96   -4621.081  1439074.0  1.492816e+06  234973.830106\n",
       " 97    8349.834  1481771.5  9.238905e+05  210673.131231\n",
       " 98     685.174  1524469.0  1.193460e+06  219041.342370\n",
       " 99   -4165.607  1534925.0  1.467283e+06  232491.233327\n",
       " 100  -2561.005  1545381.0  1.375484e+06  225917.153031\n",
       " 101  11326.765  1548818.5  9.161303e+05  209952.051097\n",
       " 102  44151.090  1552256.0  1.504925e+06  231386.228342\n",
       " 103  32034.744  1546081.0  1.539993e+06  226416.347675\n",
       " 104  70656.050  1545653.0  1.483786e+06  278708.453823\n",
       " 105  23441.344  1543212.0  1.296148e+06  215881.842765\n",
       " 106  29905.319  1548824.0  1.501622e+06  222618.618748\n",
       " 107  45667.257  1489565.0  1.484773e+06  231238.668102\n",
       " 108  45771.126  1499236.0  1.483388e+06  231260.976681,\n",
       " 'cv_score': nan,\n",
       " 'cv_error': nan}"
      ]
     },
     "execution_count": 7,
     "metadata": {},
     "output_type": "execute_result"
    }
   ],
   "source": [
    "tsr.gaussian_process_regression(X,Y)"
   ]
  },
  {
   "cell_type": "code",
   "execution_count": 8,
   "metadata": {},
   "outputs": [
    {
     "data": {
      "text/plain": [
       "{'lag': 0,\n",
       " 'prediction': np.float64(nan),\n",
       " 'r2': np.float64(0.19159967272397382),\n",
       " 'rmse': np.float64(285245.22651765624),\n",
       " 'mae': np.float64(237705.5157048664),\n",
       " 'aic': np.float64(1059.132780789029),\n",
       " 'plot_data':              X     Y_data        Y_pred\n",
       " 67    5645.806   686000.0  1.029423e+06\n",
       " 68    6934.329   705000.0  1.040863e+06\n",
       " 69    7282.939   710000.0  1.043958e+06\n",
       " 70    7358.132   724000.0  1.044626e+06\n",
       " 71    6891.971   717000.0  1.040487e+06\n",
       " 72    9684.133   715000.0  1.065277e+06\n",
       " 73    8723.833   722000.0  1.056751e+06\n",
       " 74    8944.795   793070.0  1.058713e+06\n",
       " 75    8850.084   808645.0  1.057872e+06\n",
       " 76   10913.033   824220.0  1.076188e+06\n",
       " 77   12159.458   825236.0  1.087254e+06\n",
       " 78   13165.889   826252.0  1.096190e+06\n",
       " 79   15600.923   870863.0  1.117809e+06\n",
       " 80   15788.397   915474.0  1.119474e+06\n",
       " 81    9419.346   923590.0  1.062926e+06\n",
       " 82   14075.117   931706.0  1.104262e+06\n",
       " 83   12289.881   960759.5  1.088412e+06\n",
       " 84   12970.569   989813.0  1.094456e+06\n",
       " 85   13246.660  1013671.0  1.096907e+06\n",
       " 86   12862.266  1037529.0  1.093494e+06\n",
       " 87   11037.116  1075356.0  1.077290e+06\n",
       " 88    9630.100  1113183.0  1.064797e+06\n",
       " 89   18704.401  1143388.0  1.145363e+06\n",
       " 90   22676.318  1173593.0  1.180627e+06\n",
       " 91   24678.534  1232009.5  1.198404e+06\n",
       " 92   28267.338  1290426.0  1.230267e+06\n",
       " 93   55877.866  1331006.5  1.475405e+06\n",
       " 94   23841.951  1371587.0  1.190976e+06\n",
       " 95   24454.514  1405330.5  1.196415e+06\n",
       " 96   -4621.081  1439074.0  9.382694e+05\n",
       " 97    8349.834  1481771.5  1.053431e+06\n",
       " 98     685.174  1524469.0  9.853806e+05\n",
       " 99   -4165.607  1534925.0  9.423133e+05\n",
       " 100  -2561.005  1545381.0  9.565596e+05\n",
       " 101  11326.765  1548818.5  1.079861e+06\n",
       " 102  44151.090  1552256.0  1.371290e+06\n",
       " 103  32034.744  1546081.0  1.263716e+06\n",
       " 104  70656.050  1545653.0  1.606612e+06\n",
       " 105  23441.344  1543212.0  1.187420e+06\n",
       " 106  29905.319  1548824.0  1.244810e+06\n",
       " 107  45667.257  1489565.0  1.384751e+06\n",
       " 108  45771.126  1499236.0  1.385673e+06,\n",
       " 'cv_score': np.float64(-99.9428192334479),\n",
       " 'cv_error': np.float64(113.24844293997359)}"
      ]
     },
     "execution_count": 8,
     "metadata": {},
     "output_type": "execute_result"
    }
   ],
   "source": [
    "tsr.linear_regression(X,Y)"
   ]
  },
  {
   "cell_type": "code",
   "execution_count": 9,
   "metadata": {},
   "outputs": [
    {
     "name": "stdout",
     "output_type": "stream",
     "text": [
      "Warning: Error in fold: boolean index did not match indexed array along axis 1; size of axis is 1 but size of corresponding boolean axis is 7\n",
      "Warning: Error in fold: boolean index did not match indexed array along axis 1; size of axis is 1 but size of corresponding boolean axis is 14\n",
      "Warning: Error in fold: boolean index did not match indexed array along axis 1; size of axis is 1 but size of corresponding boolean axis is 21\n",
      "Warning: Error in fold: boolean index did not match indexed array along axis 1; size of axis is 1 but size of corresponding boolean axis is 28\n",
      "Warning: Error in fold: boolean index did not match indexed array along axis 1; size of axis is 1 but size of corresponding boolean axis is 35\n"
     ]
    },
    {
     "data": {
      "text/plain": [
       "{'lag': 0,\n",
       " 'prediction': nan,\n",
       " 'r2': np.float64(0.21544855777293226),\n",
       " 'rmse': np.float64(281006.1712056036),\n",
       " 'mae': np.float64(244217.17742742779),\n",
       " 'aic': np.float64(1059.8750804114827),\n",
       " 'plot_data':              X     Y_data        Y_pred\n",
       " 67    5645.806   686000.0  1.052567e+06\n",
       " 68    6934.329   705000.0  1.055779e+06\n",
       " 69    7282.939   710000.0  1.056729e+06\n",
       " 70    7358.132   724000.0  1.056938e+06\n",
       " 71    6891.971   717000.0  1.055666e+06\n",
       " 72    9684.133   715000.0  1.064205e+06\n",
       " 73    8723.833   722000.0  1.061019e+06\n",
       " 74    8944.795   793070.0  1.061729e+06\n",
       " 75    8850.084   808645.0  1.061423e+06\n",
       " 76   10913.033   824220.0  1.068663e+06\n",
       " 77   12159.458   825236.0  1.073622e+06\n",
       " 78   13165.889   826252.0  1.077946e+06\n",
       " 79   15600.923   870863.0  1.089597e+06\n",
       " 80   15788.397   915474.0  1.090563e+06\n",
       " 81    9419.346   923590.0  1.063301e+06\n",
       " 82   14075.117   931706.0  1.082100e+06\n",
       " 83   12289.881   960759.5  1.074166e+06\n",
       " 84   12970.569   989813.0  1.077085e+06\n",
       " 85   13246.660  1013671.0  1.078306e+06\n",
       " 86   12862.266  1037529.0  1.076612e+06\n",
       " 87   11037.116  1075356.0  1.069137e+06\n",
       " 88    9630.100  1113183.0  1.064019e+06\n",
       " 89   18704.401  1143388.0  1.106879e+06\n",
       " 90   22676.318  1173593.0  1.132976e+06\n",
       " 91   24678.534  1232009.5  1.147825e+06\n",
       " 92   28267.338  1290426.0  1.177282e+06\n",
       " 93   55877.866  1331006.5  1.525878e+06\n",
       " 94   23841.951  1371587.0  1.141482e+06\n",
       " 95   24454.514  1405330.5  1.146107e+06\n",
       " 96   -4621.081  1439074.0  1.043775e+06\n",
       " 97    8349.834  1481771.5  1.059849e+06\n",
       " 98     685.174  1524469.0  1.044592e+06\n",
       " 99   -4165.607  1534925.0  1.043532e+06\n",
       " 100  -2561.005  1545381.0  1.043145e+06\n",
       " 101  11326.765  1548818.5  1.070260e+06\n",
       " 102  44151.090  1552256.0  1.351448e+06\n",
       " 103  32034.744  1546081.0  1.212128e+06\n",
       " 104  70656.050  1545653.0  1.801156e+06\n",
       " 105  23441.344  1543212.0  1.138515e+06\n",
       " 106  29905.319  1548824.0  1.191938e+06\n",
       " 107  45667.257  1489565.0  1.371808e+06\n",
       " 108  45771.126  1499236.0  1.373227e+06,\n",
       " 'cv_score': nan,\n",
       " 'cv_error': nan}"
      ]
     },
     "execution_count": 9,
     "metadata": {},
     "output_type": "execute_result"
    }
   ],
   "source": [
    "tsr.polynomial_regression(X,Y)"
   ]
  },
  {
   "cell_type": "code",
   "execution_count": null,
   "metadata": {},
   "outputs": [],
   "source": []
  }
 ],
 "metadata": {
  "kernelspec": {
   "display_name": "Python 3",
   "language": "python",
   "name": "python3"
  },
  "language_info": {
   "codemirror_mode": {
    "name": "ipython",
    "version": 3
   },
   "file_extension": ".py",
   "mimetype": "text/x-python",
   "name": "python",
   "nbconvert_exporter": "python",
   "pygments_lexer": "ipython3",
   "version": "3.12.4"
  }
 },
 "nbformat": 4,
 "nbformat_minor": 2
}
